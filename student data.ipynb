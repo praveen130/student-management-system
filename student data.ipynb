{
 "cells": [
  {
   "cell_type": "code",
   "execution_count": 1,
   "metadata": {},
   "outputs": [
    {
     "name": "stdout",
     "output_type": "stream",
     "text": [
      "['Geoffrey Hinton', 'Andrew Ng', 'Sebastian Raschka', 'Yoshua Bengio', 'Hilary Mason', 'Carla Gentry', 'Corinna Cortes']\n",
      "['Geoffrey Hinton', 'Andrew Ng', 'Sebastian Raschka', 'Yoshua Bengio', 'Hilary Mason', 'Carla Gentry', 'Corinna Cortes', 'Peter Warden']\n",
      "update new_class: ['Geoffrey Hinton', 'Andrew Ng', 'Sebastian Raschka', 'Yoshua Bengio', 'Hilary Mason', 'Corinna Cortes', 'Peter Warden']\n",
      "{'Math': 65, 'English': 70, 'History': 80, 'French': 70, 'Science': 60}\n",
      "Andrew Ng\n",
      "['Andrew', 'Ng']\n",
      "345\n",
      "69.0\n",
      "['Geoffrey Hinton', 'Andrew Ng', 'Sebastian Raschka', 'Yoshua Bengio', 'Hilary Mason', 'Corinna Cortes', 'Peter Warden']\n",
      "Ng Andrew\n",
      "NG ANDREW\n"
     ]
    }
   ],
   "source": [
    "# Code starts here\n",
    "\n",
    "# Create the lists \n",
    "class_1=['Geoffrey Hinton','Andrew Ng','Sebastian Raschka','Yoshua Bengio']\n",
    "class_2=['Hilary Mason','Carla Gentry','Corinna Cortes']\n",
    "# Concatenate both the strings\n",
    "new_class = class_1 + class_2\n",
    "print(new_class)\n",
    "# Append the list\n",
    "new='Peter Warden'\n",
    "# Print updated list\n",
    "new_class.append(new)\n",
    "print(new_class)\n",
    "# Remove the element from the list\n",
    "new_class.remove('Carla Gentry')\n",
    "# Print the list\n",
    "print('update new_class:',new_class)\n",
    "# Create the Dictionary\n",
    "courses={'Math':65,'English':70,'History':80,'French':70,'Science':60}\n",
    "print(courses)\n",
    "math=courses['Math']\n",
    "english=courses['English']\n",
    "history=courses['History']\n",
    "french=courses['French']\n",
    "science=courses['Science']\n",
    "# Slice the dict and stores  the all subjects marks in variable\n",
    "mathematics={'Geoffrey hinton':78,'Andrew Ng':95,'Sebastian Raschka':65,'Yoshua Benjio':50,'Hilary Mason':70,'Corinna Cortes':66,'Peter Warden':75}\n",
    "topper=max_marks_scored=max(mathematics,key=mathematics.get)\n",
    "print(topper)\n",
    "print(topper.split())\n",
    "# Store the all the subject in one variable `Total`\n",
    "total=math+english+history+french+science\n",
    "# Print the total\n",
    "print(total)\n",
    "# Insert percentage formula\n",
    "percentage=(total*100/500)\n",
    "# Print the percentage\n",
    "print(percentage)\n",
    "# Create the Dictionary\n",
    "print(new_class)\n",
    "# Given string\n",
    "name_1='Andrew Ng'\n",
    "# Create variable first_name \n",
    "first_name='Andrew'\n",
    "# Create variable Last_name and store last two element in the list\n",
    "Last_name='Ng'\n",
    "# Concatenate the string\n",
    "full_name=Last_name + ' ' + first_name\n",
    "# print the full_name\n",
    "print(full_name)\n",
    "# print the name in upper case\n",
    "certificate_name=full_name.upper()\n",
    "print(certificate_name)\n",
    "# Code ends here"
   ]
  },
  {
   "cell_type": "code",
   "execution_count": null,
   "metadata": {},
   "outputs": [],
   "source": []
  }
 ],
 "metadata": {
  "kernelspec": {
   "display_name": "Python 3",
   "language": "python",
   "name": "python3"
  },
  "language_info": {
   "codemirror_mode": {
    "name": "ipython",
    "version": 3
   },
   "file_extension": ".py",
   "mimetype": "text/x-python",
   "name": "python",
   "nbconvert_exporter": "python",
   "pygments_lexer": "ipython3",
   "version": "3.8.5"
  }
 },
 "nbformat": 4,
 "nbformat_minor": 4
}
